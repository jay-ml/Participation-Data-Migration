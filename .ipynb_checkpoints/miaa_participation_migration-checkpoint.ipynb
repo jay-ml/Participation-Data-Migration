{
 "cells": [
  {
   "cell_type": "code",
   "execution_count": null,
   "id": "c9eb84c9-097a-41b9-a880-4c2285552019",
   "metadata": {},
   "outputs": [],
   "source": [
    "import numpy as np\n",
    "import pandas as pd\n",
    "\n",
    "df = pd.read_csv('participation_fy25_2.csv', header=[0], keep_default_na=False)\n",
    "parts = pd.read_csv('MIAAParticipation_headers.csv', header=[0], keep_default_na=False)"
   ]
  },
  {
   "cell_type": "code",
   "execution_count": null,
   "id": "55166b15-e9a8-4ea7-879a-c57e9cb49bc5",
   "metadata": {},
   "outputs": [],
   "source": [
    "part_cols = parts.columns.tolist()\n",
    "print(part_cols)"
   ]
  },
  {
   "cell_type": "code",
   "execution_count": null,
   "id": "275830cc-c626-4aef-81ba-4eb6ff7f80b5",
   "metadata": {},
   "outputs": [],
   "source": [
    "print(df.columns.tolist())"
   ]
  },
  {
   "cell_type": "code",
   "execution_count": null,
   "id": "1b49cecb-51d6-43c7-9de2-8aad0676243a",
   "metadata": {},
   "outputs": [],
   "source": [
    "print(df['Sport'].unique())"
   ]
  },
  {
   "cell_type": "code",
   "execution_count": null,
   "id": "fede59b0-95ed-41a3-9d46-777ba0745df1",
   "metadata": {},
   "outputs": [],
   "source": [
    "def extract_sport(row):\n",
    "    cur = row['Sport']\n",
    "    if 'Football' in cur:\n",
    "        return 'Football'\n",
    "    elif 'Golf' in cur:\n",
    "        return 'Golf'\n",
    "    elif 'Soccer' in cur:\n",
    "        return 'Soccer'\n",
    "    elif 'Track - Cross Country' in cur:\n",
    "        return 'Track - Cross Country'\n",
    "    elif 'Volleyball' in cur:\n",
    "        return 'Volleyball'\n",
    "    elif 'Baseball' in cur:\n",
    "        return 'Baseball'\n",
    "    elif 'Lacrosse' in cur:\n",
    "        return 'Lacrosse'\n",
    "    elif 'Track - Outdoor' in cur:\n",
    "        return 'Track - Outdoor'\n",
    "    elif 'Basketball' in cur:\n",
    "        return 'Basketball'\n",
    "    elif 'Ice Hockey' in cur:\n",
    "        return 'Ice Hockey'\n",
    "    elif 'Swim' in cur:\n",
    "        return 'Swim'\n",
    "    elif 'Track - Indoor' in cur:\n",
    "        return 'Track - Indoor'\n",
    "    elif 'Wrestling' in cur:\n",
    "        return 'Wrestling'\n",
    "    elif 'Field Hockey' in cur:\n",
    "        return 'Field Hockey'\n",
    "    elif 'Tennis' in cur:\n",
    "        return 'Tennis'\n",
    "    elif 'Gymnastics' in cur:\n",
    "        return 'Gymnastics'\n",
    "    elif 'Ski - Alpine' in cur:\n",
    "        return 'Ski - Alpine'\n",
    "    elif 'Rugby' in cur:\n",
    "        return 'Rugby'\n",
    "    elif 'Ski - Nordic' in cur:\n",
    "        return 'Ski - Nordic'\n",
    "    elif 'Softball' in cur:\n",
    "        return 'Softball'\n",
    "    else:\n",
    "        return cur\n",
    "\n",
    "df['Sport'] = df.apply(extract_sport, axis=1)\n",
    "print(df.head())\n",
    "print(df['Sport'].unique())"
   ]
  },
  {
   "cell_type": "code",
   "execution_count": null,
   "id": "f3a86c1d-c601-45c6-b349-53accc686598",
   "metadata": {},
   "outputs": [],
   "source": [
    "print(part_cols)\n",
    "print(df.columns.tolist())"
   ]
  },
  {
   "cell_type": "code",
   "execution_count": null,
   "id": "83595b28-0b52-4c44-bbda-0083fe7c11e0",
   "metadata": {},
   "outputs": [],
   "source": [
    "ndf = parts\n",
    "for index, row in df.iterrows():\n",
    "    cur = row\n",
    "    l = []\n",
    "    l.append(cur['SchID'])\n",
    "    l.append(cur['ExpDate'])\n",
    "    l.append(cur['Sport'])\n",
    "    l.append(cur['Gender'])\n",
    "    l.append(cur['District'])\n",
    "    l.append('') #Section\n",
    "    l.append(cur['Coop'])\n",
    "    l.append('') #Division\n",
    "    l.append('') #League\n",
    "    l.append(cur['Season'])\n",
    "    l.append('') #MixedGender\n",
    "    l.append('') #AlignCode\n",
    "    l.append('') #HostSchool\n",
    "    l.append('') #8thOnly\n",
    "    l.append('') #7thAnd8th\n",
    "    l.append('') #MLAppLevel\n",
    "    ldf = pd.DataFrame([l], columns=part_cols)\n",
    "    ndf = pd.concat([ndf, ldf], ignore_index=True)\n",
    "ndf = ndf[ndf['ExpDate'] == 2025]\n",
    "print(ndf.head(25))"
   ]
  },
  {
   "cell_type": "code",
   "execution_count": null,
   "id": "2eb6d967-7def-42b7-b4c7-932822d2220d",
   "metadata": {},
   "outputs": [],
   "source": [
    "print(ndf['Season'].unique())"
   ]
  },
  {
   "cell_type": "code",
   "execution_count": null,
   "id": "f0c377db-4b1d-41dd-a657-85e94165bd3f",
   "metadata": {},
   "outputs": [],
   "source": [
    "def format_season(row):\n",
    "    cur = row['Season']\n",
    "    if 'Fall' in cur:\n",
    "        return 'F'\n",
    "    elif 'Winter' in cur:\n",
    "        return 'W'\n",
    "    elif 'Spring' in cur:\n",
    "        return 'S'\n",
    "\n",
    "ndf['Season'] = ndf.apply(format_season, axis=1)\n",
    "print(ndf.head())\n",
    "print(ndf['Season'].unique())"
   ]
  },
  {
   "cell_type": "code",
   "execution_count": null,
   "id": "1a65a781-cd7f-4a0b-9075-7032ef9581f2",
   "metadata": {},
   "outputs": [],
   "source": [
    "old_df = pd.read_csv('participation_fy24.csv', header=[0], keep_default_na=False)\n",
    "print(old_df.head())"
   ]
  },
  {
   "cell_type": "code",
   "execution_count": null,
   "id": "5770577b-dadd-4276-a7b8-733237e50391",
   "metadata": {},
   "outputs": [],
   "source": [
    "for index, row in ndf.iterrows():\n",
    "    school = row['SchID']\n",
    "    sport = row['Sport']\n",
    "    gender = row['Gender']\n",
    "    last = old_df.loc[old_df['SchID'] == school]\n",
    "    last = last.loc[old_df['Sport'] == sport]\n",
    "    last = last.loc[old_df['Gender'] == gender]\n",
    "    if last.empty:\n",
    "        continue\n",
    "    else:\n",
    "        if (row['Coop'] == last['Coop']).item() and (row['Coop'] != 'Guest'):\n",
    "            # print(school, last['Section'].item(), last['Division'].item(), last['AlignCode'].item())\n",
    "            ndf.loc[index, 'Section'] = last['Section'].item()\n",
    "            ndf.loc[index, 'Division'] = last['Division'].item()\n",
    "            ndf.loc[index, 'AlignCode'] = last['AlignCode'].item()\n",
    "\n",
    "print(ndf.head(25))\n",
    "print(\"Section: \", ndf['Section'].value_counts())\n",
    "print(\"Division: \", ndf['Division'].value_counts())\n",
    "print(\"AlignCode\", ndf['AlignCode'].value_counts())"
   ]
  },
  {
   "cell_type": "code",
   "execution_count": null,
   "id": "ffa102c6-9a48-4415-9816-66d823885ba3",
   "metadata": {},
   "outputs": [],
   "source": [
    "ndf.to_csv('fy25_participation_toAccess_2.csv')"
   ]
  },
  {
   "cell_type": "code",
   "execution_count": null,
   "id": "bc96d916-675f-4085-a8f6-9f0698567d2d",
   "metadata": {},
   "outputs": [],
   "source": [
    "print(\"Section: \", old_df['Section'].value_counts())\n",
    "print(\"Division: \", old_df['Division'].value_counts())\n",
    "print(\"AlignCode\", old_df['AlignCode'].value_counts())"
   ]
  },
  {
   "cell_type": "code",
   "execution_count": null,
   "id": "8574c469-85a7-4653-a973-6de614f04fd9",
   "metadata": {},
   "outputs": [],
   "source": []
  }
 ],
 "metadata": {
  "kernelspec": {
   "display_name": "Python 3 (ipykernel)",
   "language": "python",
   "name": "python3"
  },
  "language_info": {
   "codemirror_mode": {
    "name": "ipython",
    "version": 3
   },
   "file_extension": ".py",
   "mimetype": "text/x-python",
   "name": "python",
   "nbconvert_exporter": "python",
   "pygments_lexer": "ipython3",
   "version": "3.12.2"
  }
 },
 "nbformat": 4,
 "nbformat_minor": 5
}
