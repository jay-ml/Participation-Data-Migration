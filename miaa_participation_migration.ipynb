{
 "cells": [
  {
   "cell_type": "code",
   "execution_count": 1,
   "id": "c9eb84c9-097a-41b9-a880-4c2285552019",
   "metadata": {},
   "outputs": [
    {
     "name": "stdout",
     "output_type": "stream",
     "text": [
      "Intel MKL WARNING: Support of Intel(R) Streaming SIMD Extensions 4.2 (Intel(R) SSE4.2) enabled only processors has been deprecated. Intel oneAPI Math Kernel Library 2025.0 will require Intel(R) Advanced Vector Extensions (Intel(R) AVX) instructions.\n",
      "Intel MKL WARNING: Support of Intel(R) Streaming SIMD Extensions 4.2 (Intel(R) SSE4.2) enabled only processors has been deprecated. Intel oneAPI Math Kernel Library 2025.0 will require Intel(R) Advanced Vector Extensions (Intel(R) AVX) instructions.\n"
     ]
    }
   ],
   "source": [
    "import numpy as np\n",
    "import pandas as pd\n",
    "\n",
    "df = pd.read_csv('participation_fy25_2.csv', header=[0], keep_default_na=False)\n",
    "parts = pd.read_csv('MIAAParticipation_headers.csv', header=[0], keep_default_na=False)"
   ]
  },
  {
   "cell_type": "code",
   "execution_count": 2,
   "id": "55166b15-e9a8-4ea7-879a-c57e9cb49bc5",
   "metadata": {},
   "outputs": [
    {
     "name": "stdout",
     "output_type": "stream",
     "text": [
      "['SchID', 'ExpDate', 'Sport', 'Gender', 'District', 'Section', 'Coop', 'Division', 'League', 'Season', 'MixedGender', 'AlignCode', 'HostSchool', '8thOnly', '7thAnd8th', 'MLAppLevel']\n"
     ]
    }
   ],
   "source": [
    "part_cols = parts.columns.tolist()\n",
    "print(part_cols)"
   ]
  },
  {
   "cell_type": "code",
   "execution_count": 3,
   "id": "275830cc-c626-4aef-81ba-4eb6ff7f80b5",
   "metadata": {},
   "outputs": [
    {
     "name": "stdout",
     "output_type": "stream",
     "text": [
      "['SchID', 'ExpDate', 'Sport', 'Season', 'Gender', 'District', 'Coop', 'ID']\n"
     ]
    }
   ],
   "source": [
    "print(df.columns.tolist())"
   ]
  },
  {
   "cell_type": "code",
   "execution_count": 4,
   "id": "1b49cecb-51d6-43c7-9de2-8aad0676243a",
   "metadata": {},
   "outputs": [
    {
     "name": "stdout",
     "output_type": "stream",
     "text": [
      "['Fall Football' 'Fall Golf' 'Fall Boys Soccer'\n",
      " 'Fall Boys Track - Cross Country' 'Fall Girls Soccer'\n",
      " 'Fall Girls Track - Cross Country' 'Fall Volleyball' 'Spring Baseball'\n",
      " 'Spring Boys Lacrosse' 'Spring Boys Track - Outdoor' 'Spring Volleyball'\n",
      " 'Spring Softball' 'Spring Girls Track - Outdoor' 'Winter Boys Basketball'\n",
      " 'Winter Boys Ice Hockey' 'Winter Boys Swim' 'Winter Boys Track - Indoor'\n",
      " 'Winter Wrestling' 'Winter Girls Basketball' 'Winter Girls Swim'\n",
      " 'Winter Girls Track - Indoor' 'Fall Girls Field Hockey'\n",
      " 'Spring Boys Tennis' 'Spring Girls Lacrosse' 'Spring Girls Tennis'\n",
      " 'Winter Girls Gymnastics' 'Winter Girls Ice Hockey'\n",
      " 'Winter Girls Ski - Alpine' 'Spring Boys Rugby'\n",
      " 'Winter Boys Ski - Alpine' 'Winter Boys Ski - Nordic'\n",
      " 'Winter Girls Ski - Nordic' 'Spring Golf' 'Fall Girls Swim'\n",
      " 'Spring Girls Rugby' 'Fall Boys Swim' 'Fall Boys Field Hockey']\n"
     ]
    }
   ],
   "source": [
    "print(df['Sport'].unique())"
   ]
  },
  {
   "cell_type": "code",
   "execution_count": 5,
   "id": "fede59b0-95ed-41a3-9d46-777ba0745df1",
   "metadata": {},
   "outputs": [
    {
     "name": "stdout",
     "output_type": "stream",
     "text": [
      "     SchID  ExpDate                  Sport Season Gender  District   Coop   ID\n",
      "0  LynnLy6     2025               Football   Fall   Boys         5         784\n",
      "1  LynnLy6     2025                   Golf   Fall   Boys         5  Guest  784\n",
      "2  LynnLy6     2025                 Soccer   Fall   Boys         5         784\n",
      "3  LynnLy6     2025  Track - Cross Country   Fall   Boys         5   Host  784\n",
      "4  LynnLy6     2025                 Soccer   Fall  Girls         5         784\n",
      "['Football' 'Golf' 'Soccer' 'Track - Cross Country' 'Volleyball'\n",
      " 'Baseball' 'Lacrosse' 'Track - Outdoor' 'Softball' 'Basketball'\n",
      " 'Ice Hockey' 'Swim' 'Track - Indoor' 'Wrestling' 'Field Hockey' 'Tennis'\n",
      " 'Gymnastics' 'Ski - Alpine' 'Rugby' 'Ski - Nordic']\n"
     ]
    }
   ],
   "source": [
    "def extract_sport(row):\n",
    "    cur = row['Sport']\n",
    "    if 'Football' in cur:\n",
    "        return 'Football'\n",
    "    elif 'Golf' in cur:\n",
    "        return 'Golf'\n",
    "    elif 'Soccer' in cur:\n",
    "        return 'Soccer'\n",
    "    elif 'Track - Cross Country' in cur:\n",
    "        return 'Track - Cross Country'\n",
    "    elif 'Volleyball' in cur:\n",
    "        return 'Volleyball'\n",
    "    elif 'Baseball' in cur:\n",
    "        return 'Baseball'\n",
    "    elif 'Lacrosse' in cur:\n",
    "        return 'Lacrosse'\n",
    "    elif 'Track - Outdoor' in cur:\n",
    "        return 'Track - Outdoor'\n",
    "    elif 'Basketball' in cur:\n",
    "        return 'Basketball'\n",
    "    elif 'Ice Hockey' in cur:\n",
    "        return 'Ice Hockey'\n",
    "    elif 'Swim' in cur:\n",
    "        return 'Swim'\n",
    "    elif 'Track - Indoor' in cur:\n",
    "        return 'Track - Indoor'\n",
    "    elif 'Wrestling' in cur:\n",
    "        return 'Wrestling'\n",
    "    elif 'Field Hockey' in cur:\n",
    "        return 'Field Hockey'\n",
    "    elif 'Tennis' in cur:\n",
    "        return 'Tennis'\n",
    "    elif 'Gymnastics' in cur:\n",
    "        return 'Gymnastics'\n",
    "    elif 'Ski - Alpine' in cur:\n",
    "        return 'Ski - Alpine'\n",
    "    elif 'Rugby' in cur:\n",
    "        return 'Rugby'\n",
    "    elif 'Ski - Nordic' in cur:\n",
    "        return 'Ski - Nordic'\n",
    "    elif 'Softball' in cur:\n",
    "        return 'Softball'\n",
    "    else:\n",
    "        return cur\n",
    "\n",
    "df['Sport'] = df.apply(extract_sport, axis=1)\n",
    "print(df.head())\n",
    "print(df['Sport'].unique())"
   ]
  },
  {
   "cell_type": "code",
   "execution_count": 6,
   "id": "f3a86c1d-c601-45c6-b349-53accc686598",
   "metadata": {},
   "outputs": [
    {
     "name": "stdout",
     "output_type": "stream",
     "text": [
      "['SchID', 'ExpDate', 'Sport', 'Gender', 'District', 'Section', 'Coop', 'Division', 'League', 'Season', 'MixedGender', 'AlignCode', 'HostSchool', '8thOnly', '7thAnd8th', 'MLAppLevel']\n",
      "['SchID', 'ExpDate', 'Sport', 'Season', 'Gender', 'District', 'Coop', 'ID']\n"
     ]
    }
   ],
   "source": [
    "print(part_cols)\n",
    "print(df.columns.tolist())"
   ]
  },
  {
   "cell_type": "code",
   "execution_count": 7,
   "id": "83595b28-0b52-4c44-bbda-0083fe7c11e0",
   "metadata": {},
   "outputs": [
    {
     "name": "stdout",
     "output_type": "stream",
     "text": [
      "      SchID  ExpDate                  Sport Gender  District Section   Coop  \\\n",
      "20  LynnLy6     2025               Football   Boys         5                  \n",
      "21  LynnLy6     2025                   Golf   Boys         5          Guest   \n",
      "22  LynnLy6     2025                 Soccer   Boys         5                  \n",
      "23  LynnLy6     2025  Track - Cross Country   Boys         5           Host   \n",
      "24  LynnLy6     2025                 Soccer  Girls         5                  \n",
      "25  LynnLy6     2025  Track - Cross Country  Girls         5                  \n",
      "26  LynnLy6     2025             Volleyball  Girls         5                  \n",
      "27  LynnLy6     2025               Baseball   Boys         5          Guest   \n",
      "28  LynnLy6     2025               Lacrosse   Boys         5                  \n",
      "29  LynnLy6     2025        Track - Outdoor   Boys         5                  \n",
      "30  LynnLy6     2025             Volleyball   Boys         5                  \n",
      "31  LynnLy6     2025               Softball  Girls         5           Host   \n",
      "32  LynnLy6     2025        Track - Outdoor  Girls         5                  \n",
      "33  LynnLy6     2025             Basketball   Boys         5          Guest   \n",
      "34  LynnLy6     2025             Ice Hockey   Boys         5                  \n",
      "35  LynnLy6     2025                   Swim   Boys         5                  \n",
      "36  LynnLy6     2025         Track - Indoor   Boys         5                  \n",
      "37  LynnLy6     2025              Wrestling   Boys         5                  \n",
      "38  LynnLy6     2025             Basketball  Girls         5                  \n",
      "39  LynnLy6     2025                   Swim  Girls         5                  \n",
      "40  LynnLy6     2025         Track - Indoor  Girls         5                  \n",
      "41   NeigDO     2025               Football   Boys         6                  \n",
      "42   NeigDO     2025                 Soccer   Boys         6                  \n",
      "43   NeigDO     2025                 Soccer  Girls         6                  \n",
      "44   NeigDO     2025             Volleyball  Girls         6                  \n",
      "\n",
      "   Division League  Season MixedGender AlignCode HostSchool 8thOnly 7thAnd8th  \\\n",
      "20                    Fall                                                      \n",
      "21                    Fall                                                      \n",
      "22                    Fall                                                      \n",
      "23                    Fall                                                      \n",
      "24                    Fall                                                      \n",
      "25                    Fall                                                      \n",
      "26                    Fall                                                      \n",
      "27                  Spring                                                      \n",
      "28                  Spring                                                      \n",
      "29                  Spring                                                      \n",
      "30                  Spring                                                      \n",
      "31                  Spring                                                      \n",
      "32                  Spring                                                      \n",
      "33                  Winter                                                      \n",
      "34                  Winter                                                      \n",
      "35                  Winter                                                      \n",
      "36                  Winter                                                      \n",
      "37                  Winter                                                      \n",
      "38                  Winter                                                      \n",
      "39                  Winter                                                      \n",
      "40                  Winter                                                      \n",
      "41                    Fall                                                      \n",
      "42                    Fall                                                      \n",
      "43                    Fall                                                      \n",
      "44                    Fall                                                      \n",
      "\n",
      "   MLAppLevel  \n",
      "20             \n",
      "21             \n",
      "22             \n",
      "23             \n",
      "24             \n",
      "25             \n",
      "26             \n",
      "27             \n",
      "28             \n",
      "29             \n",
      "30             \n",
      "31             \n",
      "32             \n",
      "33             \n",
      "34             \n",
      "35             \n",
      "36             \n",
      "37             \n",
      "38             \n",
      "39             \n",
      "40             \n",
      "41             \n",
      "42             \n",
      "43             \n",
      "44             \n"
     ]
    }
   ],
   "source": [
    "ndf = parts\n",
    "for index, row in df.iterrows():\n",
    "    cur = row\n",
    "    l = []\n",
    "    l.append(cur['SchID'])\n",
    "    l.append(cur['ExpDate'])\n",
    "    l.append(cur['Sport'])\n",
    "    l.append(cur['Gender'])\n",
    "    l.append(cur['District'])\n",
    "    l.append('') #Section\n",
    "    l.append(cur['Coop'])\n",
    "    l.append('') #Division\n",
    "    l.append('') #League\n",
    "    l.append(cur['Season'])\n",
    "    l.append('') #MixedGender\n",
    "    l.append('') #AlignCode\n",
    "    l.append('') #HostSchool\n",
    "    l.append('') #8thOnly\n",
    "    l.append('') #7thAnd8th\n",
    "    l.append('') #MLAppLevel\n",
    "    ldf = pd.DataFrame([l], columns=part_cols)\n",
    "    ndf = pd.concat([ndf, ldf], ignore_index=True)\n",
    "ndf = ndf[ndf['ExpDate'] == 2025]\n",
    "print(ndf.head(25))"
   ]
  },
  {
   "cell_type": "code",
   "execution_count": 8,
   "id": "2eb6d967-7def-42b7-b4c7-932822d2220d",
   "metadata": {},
   "outputs": [
    {
     "name": "stdout",
     "output_type": "stream",
     "text": [
      "['Fall' 'Spring' 'Winter']\n"
     ]
    }
   ],
   "source": [
    "print(ndf['Season'].unique())"
   ]
  },
  {
   "cell_type": "code",
   "execution_count": 9,
   "id": "f0c377db-4b1d-41dd-a657-85e94165bd3f",
   "metadata": {},
   "outputs": [
    {
     "name": "stdout",
     "output_type": "stream",
     "text": [
      "      SchID  ExpDate                  Sport Gender  District Section   Coop  \\\n",
      "20  LynnLy6     2025               Football   Boys         5                  \n",
      "21  LynnLy6     2025                   Golf   Boys         5          Guest   \n",
      "22  LynnLy6     2025                 Soccer   Boys         5                  \n",
      "23  LynnLy6     2025  Track - Cross Country   Boys         5           Host   \n",
      "24  LynnLy6     2025                 Soccer  Girls         5                  \n",
      "\n",
      "   Division League Season MixedGender AlignCode HostSchool 8thOnly 7thAnd8th  \\\n",
      "20                      F                                                      \n",
      "21                      F                                                      \n",
      "22                      F                                                      \n",
      "23                      F                                                      \n",
      "24                      F                                                      \n",
      "\n",
      "   MLAppLevel  \n",
      "20             \n",
      "21             \n",
      "22             \n",
      "23             \n",
      "24             \n",
      "['F' 'S' 'W']\n"
     ]
    }
   ],
   "source": [
    "def format_season(row):\n",
    "    cur = row['Season']\n",
    "    if 'Fall' in cur:\n",
    "        return 'F'\n",
    "    elif 'Winter' in cur:\n",
    "        return 'W'\n",
    "    elif 'Spring' in cur:\n",
    "        return 'S'\n",
    "\n",
    "ndf['Season'] = ndf.apply(format_season, axis=1)\n",
    "print(ndf.head())\n",
    "print(ndf['Season'].unique())"
   ]
  },
  {
   "cell_type": "code",
   "execution_count": 10,
   "id": "1a65a781-cd7f-4a0b-9075-7032ef9581f2",
   "metadata": {},
   "outputs": [
    {
     "name": "stdout",
     "output_type": "stream",
     "text": [
      "    SchID  ExpDate       Sport Gender District Section Coop Division League  \\\n",
      "0  AbinAb     2024    Baseball   Boys        9       X             4          \n",
      "1  AbinAb     2024  Basketball   Boys        9       X             3          \n",
      "2  AbinAb     2024  Basketball  Girls        9       X             3          \n",
      "3  AbinAb     2024    Football   Boys        9       X             6          \n",
      "4  AbinAb     2024        Golf   Boys        9       S             3          \n",
      "\n",
      "  Season  MixedGender AlignCode HostSchool  8thOnly  7thAnd8th MLAppLevel  \n",
      "0      S        False                         False      False             \n",
      "1      W        False                         False      False             \n",
      "2      W        False                         False      False             \n",
      "3      F        False                         False      False             \n",
      "4      F        False                         False      False             \n"
     ]
    }
   ],
   "source": [
    "old_df = pd.read_csv('participation_fy24.csv', header=[0], keep_default_na=False)\n",
    "print(old_df.head())"
   ]
  },
  {
   "cell_type": "code",
   "execution_count": 11,
   "id": "5770577b-dadd-4276-a7b8-733237e50391",
   "metadata": {},
   "outputs": [
    {
     "name": "stdout",
     "output_type": "stream",
     "text": [
      "      SchID  ExpDate                  Sport Gender  District Section   Coop  \\\n",
      "20  LynnLy6     2025               Football   Boys         5       X          \n",
      "21  LynnLy6     2025                   Golf   Boys         5          Guest   \n",
      "22  LynnLy6     2025                 Soccer   Boys         5       X          \n",
      "23  LynnLy6     2025  Track - Cross Country   Boys         5       X   Host   \n",
      "24  LynnLy6     2025                 Soccer  Girls         5       X          \n",
      "25  LynnLy6     2025  Track - Cross Country  Girls         5                  \n",
      "26  LynnLy6     2025             Volleyball  Girls         5       X          \n",
      "27  LynnLy6     2025               Baseball   Boys         5          Guest   \n",
      "28  LynnLy6     2025               Lacrosse   Boys         5                  \n",
      "29  LynnLy6     2025        Track - Outdoor   Boys         5       X          \n",
      "30  LynnLy6     2025             Volleyball   Boys         5       X          \n",
      "31  LynnLy6     2025               Softball  Girls         5       X   Host   \n",
      "32  LynnLy6     2025        Track - Outdoor  Girls         5       X          \n",
      "33  LynnLy6     2025             Basketball   Boys         5          Guest   \n",
      "34  LynnLy6     2025             Ice Hockey   Boys         5                  \n",
      "35  LynnLy6     2025                   Swim   Boys         5       N          \n",
      "36  LynnLy6     2025         Track - Indoor   Boys         5       X          \n",
      "37  LynnLy6     2025              Wrestling   Boys         5                  \n",
      "38  LynnLy6     2025             Basketball  Girls         5       X          \n",
      "39  LynnLy6     2025                   Swim  Girls         5       N          \n",
      "40  LynnLy6     2025         Track - Indoor  Girls         5       X          \n",
      "41   NeigDO     2025               Football   Boys         6                  \n",
      "42   NeigDO     2025                 Soccer   Boys         6       X          \n",
      "43   NeigDO     2025                 Soccer  Girls         6       X          \n",
      "44   NeigDO     2025             Volleyball  Girls         6       X          \n",
      "\n",
      "   Division League Season MixedGender AlignCode HostSchool 8thOnly 7thAnd8th  \\\n",
      "20        8             F                    AA                                \n",
      "21                      F                                                      \n",
      "22        4             F                    AA                                \n",
      "23        3             F                    AA                                \n",
      "24        4             F                    AA                                \n",
      "25                      F                                                      \n",
      "26        4             F                    AA                                \n",
      "27                      S                                                      \n",
      "28                      S                                                      \n",
      "29        4             S                                                      \n",
      "30        2             S                                                      \n",
      "31        3             S                                                      \n",
      "32        4             S                                                      \n",
      "33                      W                                                      \n",
      "34                      W                                                      \n",
      "35        2             W                                                      \n",
      "36        4             W                                                      \n",
      "37                      W                                                      \n",
      "38        4             W                    AA                                \n",
      "39        2             W                                                      \n",
      "40        4             W                                                      \n",
      "41                      F                                                      \n",
      "42        5             F                                                      \n",
      "43        5             F                                                      \n",
      "44        5             F                                                      \n",
      "\n",
      "   MLAppLevel  \n",
      "20             \n",
      "21             \n",
      "22             \n",
      "23             \n",
      "24             \n",
      "25             \n",
      "26             \n",
      "27             \n",
      "28             \n",
      "29             \n",
      "30             \n",
      "31             \n",
      "32             \n",
      "33             \n",
      "34             \n",
      "35             \n",
      "36             \n",
      "37             \n",
      "38             \n",
      "39             \n",
      "40             \n",
      "41             \n",
      "42             \n",
      "43             \n",
      "44             \n",
      "Section:  Section\n",
      "X      1801\n",
      "        226\n",
      "S        87\n",
      "N        77\n",
      "C        39\n",
      "W        24\n",
      "CW       22\n",
      "NCW       5\n",
      "CM        5\n",
      "WC        4\n",
      "Name: count, dtype: int64\n",
      "Division:  Division\n",
      "1    597\n",
      "2    520\n",
      "3    381\n",
      "4    280\n",
      "     226\n",
      "5    217\n",
      "6     48\n",
      "8     14\n",
      "7      7\n",
      "Name: count, dtype: int64\n",
      "AlignCode AlignCode\n",
      "      2113\n",
      "AA     177\n",
      "Name: count, dtype: int64\n"
     ]
    }
   ],
   "source": [
    "for index, row in ndf.iterrows():\n",
    "    school = row['SchID']\n",
    "    sport = row['Sport']\n",
    "    gender = row['Gender']\n",
    "    last = old_df.loc[old_df['SchID'] == school]\n",
    "    last = last.loc[old_df['Sport'] == sport]\n",
    "    last = last.loc[old_df['Gender'] == gender]\n",
    "    if last.empty:\n",
    "        continue\n",
    "    else:\n",
    "        if (row['Coop'] == last['Coop']).item() and (row['Coop'] != 'Guest'):\n",
    "            # print(school, last['Section'].item(), last['Division'].item(), last['AlignCode'].item())\n",
    "            ndf.loc[index, 'Section'] = last['Section'].item()\n",
    "            ndf.loc[index, 'Division'] = last['Division'].item()\n",
    "            ndf.loc[index, 'AlignCode'] = last['AlignCode'].item()\n",
    "\n",
    "print(ndf.head(25))\n",
    "print(\"Section: \", ndf['Section'].value_counts())\n",
    "print(\"Division: \", ndf['Division'].value_counts())\n",
    "print(\"AlignCode\", ndf['AlignCode'].value_counts())"
   ]
  },
  {
   "cell_type": "code",
   "execution_count": 12,
   "id": "ffa102c6-9a48-4415-9816-66d823885ba3",
   "metadata": {},
   "outputs": [],
   "source": [
    "ndf.to_csv('fy25_participation_toAccess_2.csv')"
   ]
  },
  {
   "cell_type": "code",
   "execution_count": 13,
   "id": "bc96d916-675f-4085-a8f6-9f0698567d2d",
   "metadata": {},
   "outputs": [
    {
     "name": "stdout",
     "output_type": "stream",
     "text": [
      "Section:  Section\n",
      "X      6053\n",
      "        996\n",
      "S       302\n",
      "N       265\n",
      "C        95\n",
      "W        91\n",
      "CW       77\n",
      "NCW      16\n",
      "CM       13\n",
      "WC       13\n",
      "Name: count, dtype: int64\n",
      "Division:  Division\n",
      "1    1701\n",
      "2    1549\n",
      "3    1445\n",
      "4    1005\n",
      "     1002\n",
      "5     901\n",
      "6     232\n",
      "8      50\n",
      "7      36\n",
      "Name: count, dtype: int64\n",
      "AlignCode AlignCode\n",
      "      7243\n",
      "AA     678\n",
      "Name: count, dtype: int64\n"
     ]
    }
   ],
   "source": [
    "print(\"Section: \", old_df['Section'].value_counts())\n",
    "print(\"Division: \", old_df['Division'].value_counts())\n",
    "print(\"AlignCode\", old_df['AlignCode'].value_counts())"
   ]
  },
  {
   "cell_type": "code",
   "execution_count": null,
   "id": "8574c469-85a7-4653-a973-6de614f04fd9",
   "metadata": {},
   "outputs": [],
   "source": []
  }
 ],
 "metadata": {
  "kernelspec": {
   "display_name": "Python 3 (ipykernel)",
   "language": "python",
   "name": "python3"
  },
  "language_info": {
   "codemirror_mode": {
    "name": "ipython",
    "version": 3
   },
   "file_extension": ".py",
   "mimetype": "text/x-python",
   "name": "python",
   "nbconvert_exporter": "python",
   "pygments_lexer": "ipython3",
   "version": "3.12.2"
  }
 },
 "nbformat": 4,
 "nbformat_minor": 5
}
